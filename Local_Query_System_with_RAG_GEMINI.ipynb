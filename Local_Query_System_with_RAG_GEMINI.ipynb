{
 "cells": [
  {
   "cell_type": "markdown",
   "id": "19ee6adf-dc8a-4b0e-acc2-77ea631b38f9",
   "metadata": {
    "tags": []
   },
   "source": [
    "# Local Query System Using Gemini, RAG, and Vector Stores\n",
    "                                                                   "
   ]
  },
  {
   "cell_type": "markdown",
   "id": "d1a978b2-4f8d-4bf7-91f6-b98968c24a6b",
   "metadata": {},
   "source": [
    "Lead Data Scientist: Y.B."
   ]
  },
  {
   "cell_type": "markdown",
   "id": "3184397b-483e-45a9-86cd-005db0bf994b",
   "metadata": {
    "tags": []
   },
   "source": [
    "## Project Overview\n",
    "This project provides a step-by-step guide to building a query system for local data using the free Gemini model, Retrieval-Augmented Generation (RAG), and vector stores. The system enables efficient querying and retrieval of relevant data while leveraging AI-powered insights. This file includes instructions on setting up the environment, configuring dependencies, and executing queries efficiently. Additionally, it covers best practices for optimizing performance and troubleshooting common issues."
   ]
  },
  {
   "cell_type": "code",
   "execution_count": 2,
   "id": "70e93af7-1113-4ac6-ab55-1c98d7883b8c",
   "metadata": {
    "tags": []
   },
   "outputs": [],
   "source": [
    "from google import genai\n",
    "from langchain_google_genai import GoogleGenerativeAIEmbeddings\n",
    "from langchain.vectorstores import Chroma\n",
    "from langchain.text_splitter import CharacterTextSplitter\n",
    "from langchain.document_loaders import DirectoryLoader\n",
    "import config"
   ]
  },
  {
   "cell_type": "code",
   "execution_count": 3,
   "id": "7167b3a9-5d8f-4790-9158-33bfe9ba3aa3",
   "metadata": {
    "tags": []
   },
   "outputs": [],
   "source": [
    "from langchain.document_loaders import PyPDFLoader"
   ]
  },
  {
   "cell_type": "code",
   "execution_count": 4,
   "id": "1547cb71-0960-47a4-8117-0506bb211d03",
   "metadata": {},
   "outputs": [],
   "source": [
    "loader = PyPDFLoader('filepath/*')\n",
    "documents = loader.load()"
   ]
  },
  {
   "cell_type": "code",
   "execution_count": 5,
   "id": "2c00a003-1c1e-4c6d-81ae-8d5f4dd2da34",
   "metadata": {
    "tags": []
   },
   "outputs": [],
   "source": [
    
    "client = genai.Client(api_key=config.Google_API_KEY50323)"
   ]
  },
  {
   "cell_type": "markdown",
   "id": "e47749fe-4bca-47db-938e-ae756c36f543",
   "metadata": {},
   "source": [
    "### Gemini Installation tips:\n",
    "1- Associate with a Google Cloud Project:\n",
    "Run the following commands to initialize and authenticate your Google Cloud environment:\n",
    "\n",
    "gcloud init \n",
    "\n",
    "gcloud auth application-default login\n",
    "\n",
    "2- Enable Required APIs and Credentials in your project in google cloud:\n",
    "\n",
    "In your Google Cloud Project, navigate to the API & Services section.\n",
    "\n",
    "Enable the relevant APIs needed for Gemini.\n",
    "\n",
    "Set up the necessary credentials for authentication and access.\n"
   ]
  },
  {
   "cell_type": "code",
   "execution_count": 8,
   "id": "da22e0b8-682e-4ded-a916-962617f63f37",
   "metadata": {
    "tags": []
   },
   "outputs": [],
   "source": [
    "import os \n",
    "os.environ[\"GOOGLE_APPLICATION_CREDENTIALS\"] = \"filepath/credential.json\""
   ]
  },
  {
   "cell_type": "code",
   "execution_count": null,
   "id": "2bcfd4b6-5ddc-4ef8-9968-b70f3418e169",
   "metadata": {},
   "outputs": [],
   "source": []
  },
  {
   "cell_type": "markdown",
   "id": "8e6708e3-001b-4201-84a5-e47217a0757e",
   "metadata": {
    "tags": []
   },
   "source": [
    "## Embedding"
   ]
  },
  {
   "cell_type": "code",
   "execution_count": 9,
   "id": "ea317119-43a1-4cfe-9658-ae9845bdb063",
   "metadata": {
    "tags": []
   },
   "outputs": [],
   "source": [
    "text_splitter = CharacterTextSplitter(chunk_size=1000, chunk_overlap=0)\n",
    "texts = text_splitter.split_documents(documents)\n",
    "embeddings = GoogleGenerativeAIEmbeddings(model=\"models/text-embedding-004\",api_key=config.Google_API_KEY50323)\n",
    "docsearch = Chroma.from_documents(texts, embeddings)\n"
   ]
  },
  {
   "cell_type": "markdown",
   "id": "71789d96-754a-4811-8354-ec850b55ca65",
   "metadata": {},
   "source": [
    "## Vector Store"
   ]
  },
  {
   "cell_type": "code",
   "execution_count": 4,
   "id": "acd1fd1e-9c52-402a-a18b-a360f0428b85",
   "metadata": {
    "tags": []
   },
   "outputs": [],
   "source": [
    "from google import genai\n",
    "from google.genai import types\n",
    "from langchain_google_genai import ChatGoogleGenerativeAI\n"
   ]
  },
  {
   "cell_type": "code",
   "execution_count": 11,
   "id": "a578bea4-d991-4518-a89e-e1e294eaff69",
   "metadata": {
    "tags": []
   },
   "outputs": [],
   "source": [
    "llm = ChatGoogleGenerativeAI(model=\"gemini-2.0-flash\",\n",
    "                 temperature=0.7, top_p=0.85)"
   ]
  },
  {
   "cell_type": "code",
   "execution_count": 13,
   "id": "a6ef5b41-30cb-42e9-a5dc-88c11489559a",
   "metadata": {},
   "outputs": [
    {
     "name": "stderr",
     "output_type": "stream",
     "text": [
      "/Users/yvonne/anaconda3/envs/py3.12.3/lib/python3.12/site-packages/langchain/chains/retrieval_qa/base.py:316: UserWarning: `VectorDBQA` is deprecated - please use `from langchain.chains import RetrievalQA`\n",
      "  warnings.warn(\n"
     ]
    }
   ],
   "source": [
    "qa = VectorDBQA.from_chain_type(llm=llm, chain_type=\"stuff\", vectorstore=docsearch)\n"
   ]
  },
  {
   "cell_type": "code",
   "execution_count": 15,
   "id": "a806ffdf-fa79-4d3b-9a4f-8822c5713781",
   "metadata": {
    "tags": []
   },
   "outputs": [
    {
     "data": {
      "text/plain": [
       "{'query': \"What's carbon emission for NVDA?\",\n",
       " 'result': \"In FY24, NVIDIA's Scope 1 emissions were 14,390 MT CO2e, Scope 2 (market-based) were 40,555 MT CO2e, and Scope 3 emissions totaled 3,637,478 MT CO2e.\"}"
      ]
     },
     "execution_count": 15,
     "metadata": {},
     "output_type": "execute_result"
    }
   ],
   "source": [
    "query = \"What's carbon emission for NVDA?\"\n",
    "qa.invoke(query)"
   ]
  },
  {
   "cell_type": "code",
   "execution_count": null,
   "id": "54911182-cd67-41ed-9129-73850fcbdcf1",
   "metadata": {},
   "outputs": [],
   "source": []
  }
 ],
 "metadata": {
  "kernelspec": {
   "display_name": "mypy3.12.3",
   "language": "python",
   "name": "mypy3.12.3"
  },
  "language_info": {
   "codemirror_mode": {
    "name": "ipython",
    "version": 3
   },
   "file_extension": ".py",
   "mimetype": "text/x-python",
   "name": "python",
   "nbconvert_exporter": "python",
   "pygments_lexer": "ipython3",
   "version": "3.12.3"
  }
 },
 "nbformat": 4,
 "nbformat_minor": 5
}
