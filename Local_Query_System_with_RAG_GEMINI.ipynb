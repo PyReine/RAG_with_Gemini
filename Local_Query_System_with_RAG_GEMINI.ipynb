{
 "cells": [
  {
   "cell_type": "markdown",
   "id": "4c44aa92-f8e2-4a49-bfd7-2f6c2bceee09",
   "metadata": {
    "tags": []
   },
   "source": [
    "# Local Query System Using Gemini, RAG, and Vector Stores\n"
   ]
  },
  {
   "cell_type": "markdown",
   "id": "2cabd8b2-b3ce-4e6b-899a-0a46419ffc09",
   "metadata": {},
   "source": [
    "Lead Data Scientist: Y.B."
   ]
  },
  {
   "cell_type": "markdown",
   "id": "2384b90c-b5ce-4c4c-b712-21d43f28d735",
   "metadata": {},
   "source": [
    "## Project Overview\n",
    "This project provides a step-by-step guide to building a query system for local data using the free Gemini model, Retrieval-Augmented Generation (RAG), and vector stores. The system enables efficient querying and retrieval of relevant data while leveraging AI-powered insights. This file includes instructions on setting up the environment, configuring dependencies, and executing queries efficiently. Additionally, it covers best practices for optimizing performance and troubleshooting common issues."
   ]
  },
  {
   "cell_type": "code",
   "execution_count": null,
   "id": "0adcea2e-5abe-4d73-9a17-52b2d7be99c3",
   "metadata": {},
   "outputs": [],
   "source": [
    "from langchain_google_genai import GoogleGenerativeAIEmbeddings\n",
    "from langchain.vectorstores import Chroma\n",
    "from langchain.text_splitter import CharacterTextSplitter\n",
    "from langchain.chains import RetrievalQA\n",
    "from langchain import VectorDBQA\n",
    "from langchain.document_loaders import DirectoryLoader\n",
    "import config"
   ]
  },
  {
   "cell_type": "code",
   "execution_count": 3,
   "id": "7167b3a9-5d8f-4790-9158-33bfe9ba3aa3",
   "metadata": {
    "tags": []
   },
   "outputs": [],
   "source": [
    "from langchain.document_loaders import PyPDFLoader"
   ]
  },
  {
   "cell_type": "code",
   "execution_count": 4,
   "id": "1547cb71-0960-47a4-8117-0506bb211d03",
   "metadata": {},
   "outputs": [],
   "source": [
    "#loader = PyPDFLoader('/Users/yvonne/LLMChatbox/Doc/FY2024-NVIDIA-Corporate-Sustainability-Report.pdf')\n",
    "#documents = loader.load()"
   ]
  },
  {
   "cell_type": "code",
   "execution_count": 5,
   "id": "04a41b76-7aac-4c18-beb0-acd11a709294",
   "metadata": {
    "tags": []
   },
   "outputs": [],
   "source": [
    "loader = DirectoryLoader(\n",
    "    path=\"files_folder_path\",\n",
    "    glob=\"*.pdf\",  # This will match all PDFs in the folder and subfolders\n",
    "    loader_cls=PyPDFLoader\n",
    ")\n",
    "\n",
    "documents = loader.load()"
   ]
  },
  {
   "cell_type": "code",
   "execution_count": 6,
   "id": "2c00a003-1c1e-4c6d-81ae-8d5f4dd2da34",
   "metadata": {
    "tags": []
   },
   "outputs": [],
   "source": [
    "from google import genai\n",
    "client = genai.Client(api_key=config.Google_API_KEY50323)"
   ]
  },
  {
   "cell_type": "markdown",
   "id": "a362415b-cfc0-4552-bdb1-cbe58dd0cc55",
   "metadata": {},
   "source": [
    "### Test API connection"
   ]
  },
  {
   "cell_type": "code",
   "execution_count": 33,
   "id": "c00972bd-a2f3-4062-ab90-5a1784905d01",
   "metadata": {
    "tags": []
   },
   "outputs": [
    {
     "name": "stdout",
     "output_type": "stream",
     "text": [
      "ESG stands for Environmental, Social, and Governance, representing a framework for evaluating a company's impact and sustainability across these three key areas. Investors and stakeholders use ESG factors to assess risks and opportunities beyond traditional financial metrics, informing investment decisions and promoting responsible business practices.\n",
      "\n"
     ]
    }
   ],
   "source": [
    "from google import genai\n",
    "client = genai.Client(api_key=config.Google_API_KEY50323)\n",
    "\n",
    "response = client.models.generate_content(\n",
    "    model=\"gemini-2.0-flash\", contents=\"Please explain ESG in 2 sentences\"\n",
    ")\n",
    "print(response.text)"
   ]
  },
  {
   "cell_type": "markdown",
   "id": "e47749fe-4bca-47db-938e-ae756c36f543",
   "metadata": {},
   "source": [
    "### Gemini API Installation tips:\n",
    "1- Associate API function with the google account project:\n"
   ]
  },
  {
   "cell_type": "code",
   "execution_count": null,
   "id": "33dd7405-b92f-4728-96cd-0edff1ec9c72",
   "metadata": {},
   "outputs": [],
   "source": [
    "gcloud init \n",
    "gcloud auth application-default login"
   ]
  },
  {
   "cell_type": "markdown",
   "id": "dcb963bf-c496-42ba-867f-f1c92a27b587",
   "metadata": {},
   "source": [
    "2- In the google project management system, add relevant API and Credential"
   ]
  },
  {
   "cell_type": "code",
   "execution_count": 7,
   "id": "da22e0b8-682e-4ded-a916-962617f63f37",
   "metadata": {
    "tags": []
   },
   "outputs": [],
   "source": [
    "import os \n",
    "os.environ[\"GOOGLE_APPLICATION_CREDENTIALS\"] = \"json_credentials_file\""
   ]
  },
  {
   "cell_type": "markdown",
   "id": "6e74599a-457f-4cde-9745-23481db7065b",
   "metadata": {},
   "source": [
    "https://cloud.google.com/sdk/gcloud/reference/auth/application-default/login\n",
    "https://googleapis.dev/python/google-auth/2.6.6/user-guide.html"
   ]
  },
  {
   "cell_type": "code",
   "execution_count": 8,
   "id": "ea317119-43a1-4cfe-9658-ae9845bdb063",
   "metadata": {
    "tags": []
   },
   "outputs": [],
   "source": [
    "\n"
   ]
  },
  {
   "cell_type": "code",
   "execution_count": 9,
   "id": "acd1fd1e-9c52-402a-a18b-a360f0428b85",
   "metadata": {
    "tags": []
   },
   "outputs": [],
   "source": []
  },
  {
   "cell_type": "markdown",
   "id": "d951b4df-ea10-4b28-9020-1af28c8f0f59",
   "metadata": {},
   "source": [
    "### Define the llm to use:"
   ]
  },
  {
   "cell_type": "code",
   "execution_count": null,
   "id": "3aa27648-a766-42e8-9f38-d9b5e46b1b41",
   "metadata": {},
   "outputs": [],
   "source": [
    "from google import genai\n",
    "from google.genai import types\n",
    "from langchain_google_genai import ChatGoogleGenerativeAI\n"
   ]
  },
  {
   "cell_type": "code",
   "execution_count": 10,
   "id": "a578bea4-d991-4518-a89e-e1e294eaff69",
   "metadata": {
    "tags": []
   },
   "outputs": [],
   "source": [
    "llm = ChatGoogleGenerativeAI(model=\"gemini-2.0-flash\",temperature=0.7, top_p=0.85)"
   ]
  },
  {
   "cell_type": "markdown",
   "id": "34ef9b6b-ee1c-4271-8103-477a34201a0a",
   "metadata": {},
   "source": [
    "### Build the retrial system"
   ]
  },
  {
   "cell_type": "code",
   "execution_count": 37,
   "id": "b3b382c8-47fa-447f-8e8a-77ec16816fa2",
   "metadata": {
    "tags": []
   },
   "outputs": [],
   "source": [
    "from langchain_community.vectorstores import FAISS\n",
    "from langchain_core.vectorstores import VectorStoreRetriever"
   ]
  },
  {
   "cell_type": "code",
   "execution_count": 14,
   "id": "dc39a656-2296-4e23-b064-63ad2cffa927",
   "metadata": {
    "tags": []
   },
   "outputs": [],
   "source": [
    "#retriever = VectorStoreRetriever(vectorstore=FAISS(...))"
   ]
  },
  {
   "cell_type": "code",
   "execution_count": null,
   "id": "40f1535f-e34b-4ecd-b918-7418560994f2",
   "metadata": {},
   "outputs": [],
   "source": [
    "text_splitter = CharacterTextSplitter(chunk_size=1000, chunk_overlap=0)\n",
    "texts = text_splitter.split_documents(documents)\n",
    "embeddings = GoogleGenerativeAIEmbeddings(model=\"models/text-embedding-004\",api_key=config.Google_API_KEY50323)\n",
    "docsearch = Chroma.from_documents(texts, embeddings)"
   ]
  },
  {
   "cell_type": "code",
   "execution_count": 11,
   "id": "f1bf0d7b-5c2c-4aad-b385-6bb447e94247",
   "metadata": {
    "tags": []
   },
   "outputs": [],
   "source": [
    "retriever = docsearch.as_retriever(search_kwargs={\"k\": 3})"
   ]
  },
  {
   "cell_type": "code",
   "execution_count": 19,
   "id": "a7ebb181-1794-4395-b0c3-2eb11d94c22e",
   "metadata": {
    "tags": []
   },
   "outputs": [],
   "source": [
    "qa = RetrievalQA.from_chain_type(llm,retriever=retriever)"
   ]
  },
  {
   "cell_type": "code",
   "execution_count": 17,
   "id": "a6ef5b41-30cb-42e9-a5dc-88c11489559a",
   "metadata": {},
   "outputs": [],
   "source": [
    "#qa = VectorDBQA.from_chain_type(llm=llm, chain_type=\"stuff\", vectorstore=docsearch)"
   ]
  },
  {
   "cell_type": "code",
   "execution_count": null,
   "id": "ebd4db19-0f96-4cc6-96ad-281b55506919",
   "metadata": {},
   "outputs": [],
   "source": []
  },
  {
   "cell_type": "markdown",
   "id": "e17e7af2-3bf3-4447-a122-28d64c69aa32",
   "metadata": {},
   "source": [
    "### Ask Questions based on the documents in the folder"
   ]
  },
  {
   "cell_type": "code",
   "execution_count": 47,
   "id": "a806ffdf-fa79-4d3b-9a4f-8822c5713781",
   "metadata": {
    "tags": []
   },
   "outputs": [
    {
     "data": {
      "text/plain": [
       "{'query': \"What's carbon emission for NVDA in 2023?\",\n",
       " 'result': \"Here's a breakdown of NVIDIA's carbon emissions (MT CO2e) for FY23, according to the provided document:\\n\\n*   **Scope 1:** 12,346\\n*   **Scope 2 (market-based):** 60,671\\n*   **Scope 1 and 2 (market-based):** 73,017\\n*   **Scope 2 (location-based):** 142,909\\n*   **Scope 3:** 3,514,000\\n\\n    *   Category 1: Purchased goods and services: 2,975,189\\n    *   Category 2: Capital goods: 353,280\\n    *   Category 3: Fuel-and energy-related activities: 67,805\\n    *   Category 4: Upstream transportation and distribution: 60,572\\n    *   Category 5: Waste generated in operations: 579\\n    *   Category 6: Business travel: 8,633\\n    *   Category 7: Employee commuting: 14,990\\n    *   Category 8: Upstream leased assets: 32,952\"}"
      ]
     },
     "execution_count": 47,
     "metadata": {},
     "output_type": "execute_result"
    }
   ],
   "source": [
    "query1 = \"What's carbon emission for NVDA in 2023?\"\n",
    "qa.invoke(query1)"
   ]
  },
  {
   "cell_type": "code",
   "execution_count": 48,
   "id": "429e46f9-2301-4672-9abc-d825c235a690",
   "metadata": {
    "tags": []
   },
   "outputs": [
    {
     "data": {
      "text/plain": [
       "{'query': \"What's carbon emission for boeing in 2023?\",\n",
       " 'result': 'Boeing achieved net-zero carbon emissions (Scope 1 and Scope 2) at manufacturing and other work sites, and in business travel (Scope 3, Category 6) in 2023 for the fourth consecutive year, by expanding conservation and renewable energy procurement while securing third-party-verified offsets for the remaining greenhouse gas (GHG) emissions.\\n\\nHere are the carbon emissions for Boeing in 2023:\\n*   Scope 1 GHG: 536,000 metric tons CO2e\\n*   Scope 2 GHG (location-based): 764,000 metric tons CO2e\\n*   Scope 2 GHG (market-based): 380,000 metric tons CO2e\\n*   Scope 3 GHG - business travel: 254,000 metric tons CO2e\\n*   Scope 3 GHG - use of sold products (Commercial Airplanes): 427,000,000 metric tons CO2e\\n*   Scope 3 GHG - use of sold products (Defense, Space & Security): 21,000,000 metric tons CO2e\\n*   Total calculated GHG excluding sold products: 1,170,000 metric tons CO2e\\n*   Core metrics sites GHG (location-based): 618,000 metric tons CO2e\\n*   Core metrics sites GHG (market-based): 248,000 metric tons CO2e'}"
      ]
     },
     "execution_count": 48,
     "metadata": {},
     "output_type": "execute_result"
    }
   ],
   "source": [
    "query2 = \"What's carbon emission for boeing in 2023?\"\n",
    "qa.invoke(query2)"
   ]
  },
  {
   "cell_type": "code",
   "execution_count": 49,
   "id": "7b45fdc2-7b72-46c0-ab2f-1cf364293b21",
   "metadata": {
    "tags": []
   },
   "outputs": [
    {
     "data": {
      "text/plain": [
       "{'query': 'please compare the carbon emission between boeing and NVDA in 2023? ',\n",
       " 'result': \"In 2023, Boeing's Scope 1 GHG emissions were 642,000 metric tons CO2e, Scope 2 (market-based) GHG emissions were 401,000 metric tons CO2e. NVIDIA's Scope 1 GHG emissions were 12,346 metric tons CO2e, and Scope 2 (market-based) GHG emissions were 60,671 metric tons CO2e.\"}"
      ]
     },
     "execution_count": 49,
     "metadata": {},
     "output_type": "execute_result"
    }
   ],
   "source": [
    "query3=\"please compare the carbon emission between boeing and NVDA in 2023? \"\n",
    "qa.invoke(query3)"
   ]
  },
  {
   "cell_type": "code",
   "execution_count": 50,
   "id": "7ee607a5-cf47-4c62-92ff-0373775d76ab",
   "metadata": {
    "tags": []
   },
   "outputs": [
    {
     "data": {
      "text/plain": [
       "{'query': 'Based on ESG fundamental, what is major risk for boeing?',\n",
       " 'result': 'Based on the provided text, major risks for Boeing include:\\n\\n*   Safety and quality issues.\\n*   Increase in supply chain risks from conflicts and geopolitical events.\\n*   Effects of climate change and legal, regulatory or market responses to such change.\\n*   Potential environmental liabilities.'}"
      ]
     },
     "execution_count": 50,
     "metadata": {},
     "output_type": "execute_result"
    }
   ],
   "source": [
    "query4 = \"Based on ESG fundamental, what is major risk for boeing?\"\n",
    "qa.invoke(query4)"
   ]
  },
  {
   "cell_type": "code",
   "execution_count": null,
   "id": "fb1f444a-d40a-473e-8282-bc7729dd214a",
   "metadata": {},
   "outputs": [],
   "source": []
  }
 ],
 "metadata": {
  "kernelspec": {
   "display_name": "mypy3.12.3",
   "language": "python",
   "name": "mypy3.12.3"
  },
  "language_info": {
   "codemirror_mode": {
    "name": "ipython",
    "version": 3
   },
   "file_extension": ".py",
   "mimetype": "text/x-python",
   "name": "python",
   "nbconvert_exporter": "python",
   "pygments_lexer": "ipython3",
   "version": "3.12.3"
  }
 },
 "nbformat": 4,
 "nbformat_minor": 5
}
